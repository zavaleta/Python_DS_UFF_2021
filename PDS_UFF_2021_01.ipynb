{
 "cells": [
  {
   "cell_type": "markdown",
   "metadata": {
    "colab_type": "text",
    "id": "view-in-github"
   },
   "source": [
    "<a href=\"https://colab.research.google.com/github/zavaleta/Python_Data_Science_UFF_2020/blob/master/Python_Data_Science_UFF_2020_M1.ipynb\" target=\"_parent\"><img src=\"https://colab.research.google.com/assets/colab-badge.svg\" alt=\"Open In Colab\"/></a>"
   ]
  },
  {
   "cell_type": "markdown",
   "metadata": {},
   "source": [
    "<img src=\"imagens/verao_uff.png\" alt=\"verao\">"
   ]
  },
  {
   "cell_type": "markdown",
   "metadata": {},
   "source": [
    "---\n",
    "# Univerisdade Federal Fluminense - UFF\n",
    "## Programa de Pós-graduação em Engenharia de Biossistemas"
   ]
  },
  {
   "cell_type": "markdown",
   "metadata": {},
   "source": [
    "---\n",
    "# Escola de Verão 2021\n",
    "### Professor: Jorge Zavaleta. <jorge.zavaleta@ppgi.ufrj.br>"
   ]
  },
  {
   "cell_type": "markdown",
   "metadata": {
    "colab_type": "text",
    "id": "2C6hNnbedNOe"
   },
   "source": [
    "---\n",
    "# Módulo 01 - Python Básico"
   ]
  },
  {
   "cell_type": "markdown",
   "metadata": {
    "colab_type": "text",
    "id": "Aap9zu6XbFOv"
   },
   "source": [
    " ## Linguagem Markdown\n",
    ">**Markdown** é uma linguagem simples de marcação que converte seu texto em HTML válido."
   ]
  },
  {
   "cell_type": "markdown",
   "metadata": {
    "colab_type": "text",
    "id": "g89s0eNriQq2"
   },
   "source": [
    "## Python"
   ]
  },
  {
   "cell_type": "markdown",
   "metadata": {
    "colab_type": "text",
    "id": "7PPeoeNhaHZD"
   },
   "source": [
    "> **Python** é uma linguagem de programação de alto nível, interpretada, de script, imperativa, orientada a objetos (OO), funcional, de tipagem dinâmica e permite:\n",
    "\n",
    ">- Construir sistemas desktop com Tkinter, WxPython, etc.\n",
    ">- Construir sistemas Web com Django, Flask, Pyramid, etc.\n",
    ">- Análisar dados usando Inteligência Artificial (IA) e Machine Learning.\n",
    ">- Usar bibliotecas especiais para o Análise de Dados e Visualização Gráfica (Numpy,sciPy, Pandas, Matplotlib, seaborn, etc).\n",
    ">- Construir aplicativos com Kivy e Pybee.\n",
    "\n",
    "> O Python têm características que possibilitam escrever códigos em menos linhas em comparação a outras linguagens de programação atuais."
   ]
  },
  {
   "cell_type": "markdown",
   "metadata": {
    "colab_type": "text",
    "id": "dl_55ty-aWtg"
   },
   "source": [
    "## Variaveis e Tipos de dados\n",
    ">**Variáveis** são um dos recursos mais básicos das linguagens de programação, utilizadas para armazenar valores em memória e permitem gravar e ler dados com facilidade a partir de um nome definido pelo programador.\n"
   ]
  },
  {
   "cell_type": "markdown",
   "metadata": {
    "colab_type": "text",
    "id": "lYlZdF0YaHZS"
   },
   "source": [
    "### Atribuição de Variáveis"
   ]
  },
  {
   "cell_type": "code",
   "execution_count": null,
   "metadata": {
    "colab": {},
    "colab_type": "code",
    "id": "k4cDxe4-aHZV"
   },
   "outputs": [],
   "source": [
    "# comentario em Python \n",
    "oi ='Bom dia!!'\n",
    "nome =' Jorge'\n",
    "num = 63\n",
    "verdade = True\n",
    "n_real = 4.15\n",
    "# imprimindo os resultados\n",
    "print('Tipo string :',oi+nome)\n",
    "print(oi)\n",
    "print('Tipo Inteiro :',num)\n",
    "print('Tipo Booleano :',verdade)\n",
    "print('Tipo Real :',n_real)"
   ]
  },
  {
   "cell_type": "markdown",
   "metadata": {
    "colab_type": "text",
    "id": "egnCcWEoaHZg"
   },
   "source": [
    "### Cálculos com Variáveis"
   ]
  },
  {
   "cell_type": "code",
   "execution_count": null,
   "metadata": {
    "colab": {},
    "colab_type": "code",
    "id": "YZVmGOD_aHZm"
   },
   "outputs": [],
   "source": [
    "# Atribuição de valores\n",
    "x = 10\n",
    "y = x + 5\n",
    "print('y = ',y)"
   ]
  },
  {
   "cell_type": "markdown",
   "metadata": {
    "colab_type": "text",
    "id": "Od43Yvz8aHZz"
   },
   "source": [
    "Com as variáveis podem ser realizadas operações de:\n",
    "    - soma\n",
    "    - substração\n",
    "    - Multiplicação\n",
    "    - Potenciação\n",
    "    - Resto de variáveis\n",
    "    - divisão de variáveis"
   ]
  },
  {
   "cell_type": "markdown",
   "metadata": {
    "colab_type": "text",
    "id": "nNrTRjwEaHZ3"
   },
   "source": [
    "### Tipos de Dados e Conversão de Tipos\n",
    "O **tipo** é uma forma de classificar as informação. As linguagens de programação normalmente trazem implementado o que é chamado de tipos primitivos. Em Python existem 4 tipos numéricos:\n",
    "* inteiro (int)\n",
    "* ponto flutuante (float)\n",
    "* booleano (bool)\n",
    "* complexo (complex)"
   ]
  },
  {
   "cell_type": "code",
   "execution_count": null,
   "metadata": {
    "colab": {},
    "colab_type": "code",
    "id": "KoIAoztUaHZ7"
   },
   "outputs": [],
   "source": [
    "# Variáveis para strings\n",
    "x1 = '4'\n",
    "x2 ='3.1415'\n",
    "x3 = 'True'\n",
    "x11 = str(x1) #\n",
    "print(x11,':',type(x1))\n",
    "print(x11)\n",
    "# Variáveis para inteiros\n",
    "n1 = 5\n",
    "n2 = 2\n",
    "n3 = 0\n",
    "n11 = int(5) #\n",
    "print(n11,type(5))\n",
    "print(n11)\n",
    "# variáveis para reais\n",
    "r1 = 4.5\n",
    "r2 = 1.0\n",
    "r3 = -1.5\n",
    "r11 = float(r1) #\n",
    "print(r11,type(r1))\n",
    "print(r11)\n",
    "# variáveis para booleanos\n",
    "t1 = True\n",
    "t2 = False\n",
    "t11 = bool(t1) #\n",
    "print(t11,type(t1))\n",
    "print(t11)"
   ]
  },
  {
   "cell_type": "markdown",
   "metadata": {
    "colab_type": "text",
    "id": "E4AvFYfnaHaI"
   },
   "source": [
    "### Ajuda (Help)"
   ]
  },
  {
   "cell_type": "code",
   "execution_count": null,
   "metadata": {
    "colab": {},
    "colab_type": "code",
    "id": "NB4_PcPgaHaM"
   },
   "outputs": [],
   "source": [
    "# Pedir ajuda a qualquer momento!!!\n",
    "# help(str)"
   ]
  },
  {
   "cell_type": "markdown",
   "metadata": {
    "colab_type": "text",
    "id": "uLGTQeYlaHaX"
   },
   "source": [
    "## **Strings**\n",
    "Uma **String** representa um conjunto de caracteres disposto numa determinada ordem. O termo String se refere a um conjunto de caracteres."
   ]
  },
  {
   "cell_type": "code",
   "execution_count": null,
   "metadata": {
    "colab": {},
    "colab_type": "code",
    "id": "fVKxbS6VaHaa"
   },
   "outputs": [],
   "source": [
    "# strings\n",
    "nome = 'Jorge'\n",
    "print('Nome :', nome)"
   ]
  },
  {
   "cell_type": "markdown",
   "metadata": {
    "colab_type": "text",
    "id": "nIR5zyNlaHag"
   },
   "source": [
    "**Exercício**: Escreva usando strings seus dados: nome, endereço, cep, etc."
   ]
  },
  {
   "cell_type": "markdown",
   "metadata": {
    "colab_type": "text",
    "id": "Cu30eBvuaHai"
   },
   "source": [
    "### Operações com Strings"
   ]
  },
  {
   "cell_type": "code",
   "execution_count": null,
   "metadata": {
    "colab": {},
    "colab_type": "code",
    "id": "r0_cHOkuaHan"
   },
   "outputs": [],
   "source": [
    "# definir uma string\n",
    "frase = ' Niterói é uma cidade instessante de visitar.'\n",
    "print('Mensagem : ',frase)"
   ]
  },
  {
   "cell_type": "code",
   "execution_count": null,
   "metadata": {
    "colab": {},
    "colab_type": "code",
    "id": "YbgUGqLmi1pJ"
   },
   "outputs": [],
   "source": [
    "# soma de strings (concatenação de string)\n",
    "frase0 = frase + \" Não posso acreditar!!\"\n",
    "print(frase0)\n",
    "print(' Número de caracteres da frase : ',len(frase0))"
   ]
  },
  {
   "cell_type": "code",
   "execution_count": null,
   "metadata": {
    "colab": {},
    "colab_type": "code",
    "id": "P6r4IJnMiUHE"
   },
   "outputs": [],
   "source": [
    "# multiplicação de strings\n",
    "frase1 = frase*2\n",
    "print(frase1)"
   ]
  },
  {
   "cell_type": "code",
   "execution_count": null,
   "metadata": {
    "colab": {},
    "colab_type": "code",
    "id": "wn4Sopzaj27D"
   },
   "outputs": [],
   "source": [
    "# caracteres numa string\n",
    "caracter = 'ó' in frase\n",
    "print('Caracter achado : ',caracter)"
   ]
  },
  {
   "cell_type": "code",
   "execution_count": null,
   "metadata": {
    "colab": {},
    "colab_type": "code",
    "id": "22DeMZihkiV6"
   },
   "outputs": [],
   "source": [
    "# Achar um caracter específico\n",
    "char0 = frase[5]\n",
    "print('Char: ',char0)"
   ]
  },
  {
   "cell_type": "code",
   "execution_count": null,
   "metadata": {
    "colab": {},
    "colab_type": "code",
    "id": "HBT6pFp2lVX3"
   },
   "outputs": [],
   "source": [
    "# achar substrings\n",
    "chars0 = frase[0:10]\n",
    "print('Substrings : ',chars0)"
   ]
  },
  {
   "cell_type": "code",
   "execution_count": null,
   "metadata": {
    "colab": {},
    "colab_type": "code",
    "id": "-tCv9Mpdkild"
   },
   "outputs": [],
   "source": [
    "# Visualizar todos os caracteres de uma string\n",
    "for c in frase:\n",
    "    print('Char : ',c)"
   ]
  },
  {
   "cell_type": "code",
   "execution_count": null,
   "metadata": {
    "colab": {},
    "colab_type": "code",
    "id": "RuQGGONcn_ou"
   },
   "outputs": [],
   "source": [
    "i=0\n",
    "while i<len(frase):\n",
    "    print('c : ',frase[i])\n",
    "    i+=1 #i=i+1\n"
   ]
  },
  {
   "cell_type": "markdown",
   "metadata": {
    "colab_type": "text",
    "id": "oZo1Hq79pqNE"
   },
   "source": [
    "**Exercícios**: Mostrar caracteres de 2 em 2 e logo de 3, 4, 5, etc."
   ]
  },
  {
   "cell_type": "markdown",
   "metadata": {
    "colab_type": "text",
    "id": "mQ0cgm9jaHau"
   },
   "source": [
    "### Métodos das Strings"
   ]
  },
  {
   "cell_type": "code",
   "execution_count": null,
   "metadata": {
    "colab": {},
    "colab_type": "code",
    "id": "QNbogh6iaHaw"
   },
   "outputs": [],
   "source": [
    "# exemplo string-01\n",
    "# string para Maiúsculas\n",
    "maiusculas = frase.upper()\n",
    "print('Frase : ',maiusculas)"
   ]
  },
  {
   "cell_type": "code",
   "execution_count": null,
   "metadata": {
    "colab": {},
    "colab_type": "code",
    "id": "9tKgkzaHrFVY"
   },
   "outputs": [],
   "source": [
    "# exemplo string-02\n",
    "# string para Minúsculas\n",
    "minusculas = frase.lower()\n",
    "print('Frase : ',minusculas)"
   ]
  },
  {
   "cell_type": "code",
   "execution_count": null,
   "metadata": {
    "colab": {},
    "colab_type": "code",
    "id": "qYUPcvP0rFlR"
   },
   "outputs": [],
   "source": [
    "# exemplo string-03\n",
    "# Contar elementos de uma string\n",
    "num_chars = frase.count('i')\n",
    "print('Número : ',num_chars)"
   ]
  },
  {
   "cell_type": "code",
   "execution_count": null,
   "metadata": {
    "colab": {},
    "colab_type": "code",
    "id": "NsoYM-KHrF5n"
   },
   "outputs": [],
   "source": [
    "# exemplo string-04\n",
    "# reemplazar elementos de uma string\n",
    "nova_frase = frase.replace('i','x')\n",
    "print('Frase : ',frase)\n",
    "print('Nova frase : ',nova_frase)"
   ]
  },
  {
   "cell_type": "markdown",
   "metadata": {
    "colab_type": "text",
    "id": "Du4L-USYvFvD"
   },
   "source": [
    "**Exercício**: Mostrar as posições dos caracteres *'i'* achados no exemplo string-03."
   ]
  },
  {
   "cell_type": "markdown",
   "metadata": {
    "colab_type": "text",
    "id": "z8IIpqrBaHa5"
   },
   "source": [
    "## Listas\n",
    ">Uma **lista** é uma estrutura de dados composta por itens organizados de forma linear. Os elementos de uma lista podem ser acessados a partir de um índice que começa em zero.\n",
    "\n",
    ">Uma lista pode ser denotada usando colchetes **[** e **]**"
   ]
  },
  {
   "cell_type": "code",
   "execution_count": null,
   "metadata": {
    "colab": {},
    "colab_type": "code",
    "id": "zz6JrlDFaHa8"
   },
   "outputs": [],
   "source": [
    "# exemplo lista-01\n",
    "# criando listas\n",
    "nomes = ['Jorge','cida','José','Karla']\n",
    "numeros =[4.5, 6, 10, 8, 9]\n",
    "lista_vazia = []\n",
    "lista_mixta = [nomes, numeros, 'resto',9.5] \n",
    "print('Nomes: ',nomes)\n",
    "print('Números: ',numeros)\n",
    "print('Lista Vazia: ',lista_vazia)\n",
    "print('Lista Mixta: ',lista_mixta)"
   ]
  },
  {
   "cell_type": "markdown",
   "metadata": {
    "colab_type": "text",
    "id": "9HUT6jfwaHbD"
   },
   "source": [
    "### Seleccionar Elementos da Lista"
   ]
  },
  {
   "cell_type": "code",
   "execution_count": null,
   "metadata": {
    "colab": {},
    "colab_type": "code",
    "id": "jNhCQKBTaHbG"
   },
   "outputs": [],
   "source": [
    "# exemplo lista-02\n",
    "# sublista\n",
    "nova_l = lista_mixta[1]\n",
    "print('SubLista: ',nova_l)\n",
    "nova_ll = lista_mixta[3]\n",
    "print('SubLista: ',nova_ll)"
   ]
  },
  {
   "cell_type": "code",
   "execution_count": null,
   "metadata": {
    "colab": {},
    "colab_type": "code",
    "id": "sluN2rbkaDXX"
   },
   "outputs": [],
   "source": [
    "# exemplo lista-03\n",
    "# fatia ou sublista\n",
    "sub_lista = lista_mixta[1:3] # elementos entre 1 e 2\n",
    "print('Sublista : ',sub_lista)"
   ]
  },
  {
   "cell_type": "code",
   "execution_count": null,
   "metadata": {
    "colab": {
     "base_uri": "https://localhost:8080/",
     "height": 34
    },
    "colab_type": "code",
    "id": "l-b7AFn9bHgu",
    "outputId": "2e917ce0-7a11-4bb6-f2b0-76c527b34302"
   },
   "outputs": [],
   "source": [
    "# exemplo lista-04\n",
    "# lista elementos depois de 0\n",
    "sub_lista0 = lista_mixta[1:]  \n",
    "print('Sublista0 : ',sub_lista0)"
   ]
  },
  {
   "cell_type": "code",
   "execution_count": null,
   "metadata": {
    "colab": {},
    "colab_type": "code",
    "id": "As94Qg4_bHvI"
   },
   "outputs": [],
   "source": [
    "# exemplo lista-05\n",
    "# lista elementos até o índice 2\n",
    "sub_lista1 = lista_mixta[:3] \n",
    "print('Sublista1 : ',sub_lista1)"
   ]
  },
  {
   "cell_type": "code",
   "execution_count": null,
   "metadata": {
    "colab": {},
    "colab_type": "code",
    "id": "gifTP2fKdmlz"
   },
   "outputs": [],
   "source": [
    "# exemplo lista-06\n",
    "# copia a lista completa numa nova lista\n",
    "sub_lista2 = lista_mixta[:] \n",
    "print('Sublista2 : ',sub_lista2)"
   ]
  },
  {
   "cell_type": "code",
   "execution_count": null,
   "metadata": {
    "colab": {},
    "colab_type": "code",
    "id": "z96gkv7xjcGe"
   },
   "outputs": [],
   "source": [
    "# subslistas de uma lista\n",
    "lista1 = lista_mixta[1][0]\n",
    "print('Sublista_0 : ',lista1)"
   ]
  },
  {
   "cell_type": "code",
   "execution_count": null,
   "metadata": {
    "colab": {},
    "colab_type": "code",
    "id": "TP7jGpnyjc2e"
   },
   "outputs": [],
   "source": [
    "# subslistas de uma lista\n",
    "lista2 = lista_mixta[1][:2]\n",
    "print('Sublista_1 : ',lista2)"
   ]
  },
  {
   "cell_type": "markdown",
   "metadata": {
    "colab_type": "text",
    "id": "fRgL89RmeF1V"
   },
   "source": [
    "**Exercício**: Elaborar uma lista com os nomes dos participantes e verificar os elementos da lista."
   ]
  },
  {
   "cell_type": "markdown",
   "metadata": {
    "colab_type": "text",
    "id": "MxBlLpshaHbM"
   },
   "source": [
    "### Operações com Listas"
   ]
  },
  {
   "cell_type": "code",
   "execution_count": null,
   "metadata": {
    "colab": {},
    "colab_type": "code",
    "id": "gVR3saTtaHbP"
   },
   "outputs": [],
   "source": [
    "# exemplo lista-07\n",
    "lista = ['a','b',1, 2, 4.5, 10.0, 2+3j, True, 'Jorge']\n",
    "# soma de listas\n",
    "l_soma = lista + lista\n",
    "print('Soma : ',l_soma)"
   ]
  },
  {
   "cell_type": "code",
   "execution_count": null,
   "metadata": {
    "colab": {},
    "colab_type": "code",
    "id": "5e2TuT2xf8PQ"
   },
   "outputs": [],
   "source": [
    "# exemplo lista-08\n",
    "# produto de listas\n",
    "l_produto = lista * 2\n",
    "print('Produto : ',l_produto)"
   ]
  },
  {
   "cell_type": "markdown",
   "metadata": {
    "colab_type": "text",
    "id": "Tpkih8xwaHbY"
   },
   "source": [
    "### Métodos das Listas"
   ]
  },
  {
   "cell_type": "code",
   "execution_count": null,
   "metadata": {
    "colab": {},
    "colab_type": "code",
    "id": "tnTFegFmaHbb"
   },
   "outputs": [],
   "source": [
    "# exemplo lista-09\n",
    "# índice de um item\n",
    "l_indice = lista.index(2)\n",
    "print(l_indice)"
   ]
  },
  {
   "cell_type": "code",
   "execution_count": null,
   "metadata": {
    "colab": {},
    "colab_type": "code",
    "id": "OBh-OVBukuOu"
   },
   "outputs": [],
   "source": [
    "# exemplo lista-10\n",
    "# contar um item\n",
    "l_contar = lista.count(2)\n",
    "print(l_contar)"
   ]
  },
  {
   "cell_type": "code",
   "execution_count": null,
   "metadata": {
    "colab": {},
    "colab_type": "code",
    "id": "iKk9sIsslOz8"
   },
   "outputs": [],
   "source": [
    "# exemplo lista-11\n",
    "# adicionar um item\n",
    "lista.append('carro novo!!!')\n",
    "print('Lista : ',lista)"
   ]
  },
  {
   "cell_type": "code",
   "execution_count": null,
   "metadata": {
    "colab": {},
    "colab_type": "code",
    "id": "HUx3Jjc_mUDy"
   },
   "outputs": [],
   "source": [
    "# exemplo lista-12\n",
    "# remover um item\n",
    "lista.remove(1)\n",
    "print('Lista : ',lista)"
   ]
  },
  {
   "cell_type": "code",
   "execution_count": null,
   "metadata": {
    "colab": {},
    "colab_type": "code",
    "id": "IX-_9RL9mUYK"
   },
   "outputs": [],
   "source": [
    "# exemplo lista-13\n",
    "# remover o ultimo elemento da lista\n",
    "L = [0, 1, 2, 3]\n",
    "l_pop = L.pop(1)\n",
    "print('Pop : ',l_pop)"
   ]
  },
  {
   "cell_type": "code",
   "execution_count": null,
   "metadata": {
    "colab": {},
    "colab_type": "code",
    "id": "u6OQ9Y6MpFnw"
   },
   "outputs": [],
   "source": [
    "# exemplo lista-14\n",
    "# insertar elementos na lista: insert(indice,elemento)\n",
    "L1 = [0, 1, 2, 3, 'a']\n",
    "L1.insert(1,'b')\n",
    "print(L1)"
   ]
  },
  {
   "cell_type": "code",
   "execution_count": null,
   "metadata": {
    "colab": {},
    "colab_type": "code",
    "id": "UY8l2gQEl3dZ"
   },
   "outputs": [],
   "source": [
    "# exemplo lista-15\n",
    "# ordenar elementos de uma lista\n",
    "lo = [0, 10, 3, 5, 2, 7]\n",
    "lo.sort()\n",
    "print(lo)"
   ]
  },
  {
   "cell_type": "code",
   "execution_count": null,
   "metadata": {
    "colab": {},
    "colab_type": "code",
    "id": "82lWKJM-mk9C"
   },
   "outputs": [],
   "source": [
    "# exemplo lista-16\n",
    "# ordenar elementos de uma lista\n",
    "lor = ['u','i','a','e','o']\n",
    "lor.sort()\n",
    "print(lor)"
   ]
  },
  {
   "cell_type": "markdown",
   "metadata": {},
   "source": [
    "## Estruturas de Controle\n",
    "> ### Condicionais: if - else - elif(else if)\n",
    ">  Se uma determinada condição for verdadeira, executa um trecho de código, **else**,  se for falso executa outro trecho de código.\n",
    "> ```\n",
    "if <Boolean expression>:\n",
    "    <sequence of statements>\n",
    "elif <Boolean expression>:\n",
    "    <sequence of statements>\n",
    "...\n",
    "else:\n",
    "    <sequence of statements>\n",
    "```"
   ]
  },
  {
   "cell_type": "code",
   "execution_count": null,
   "metadata": {},
   "outputs": [],
   "source": [
    "# exemplo de if-else\n",
    "x = 4\n",
    "y = 10\n",
    "if x == y:\n",
    "    print('V')\n",
    "else:\n",
    "    print('F')"
   ]
  },
  {
   "cell_type": "code",
   "execution_count": null,
   "metadata": {},
   "outputs": [],
   "source": [
    "# exemplo de if-else-elif\n",
    "x = 4\n",
    "y = 10\n",
    "if x == y:\n",
    "    print('x = y')\n",
    "elif x > y:\n",
    "    print('x > y')\n",
    "else:\n",
    "    print('y > x:',y)"
   ]
  },
  {
   "cell_type": "code",
   "execution_count": null,
   "metadata": {},
   "outputs": [],
   "source": [
    "# exemplo\n",
    "numero = int(input('Digite um numero: '))\n",
    "op = numero%2\n",
    "if (op == 0):\n",
    "    print('Número par')\n",
    "else:\n",
    "    print('Número impar')"
   ]
  },
  {
   "cell_type": "markdown",
   "metadata": {},
   "source": [
    "> ### Laços de Repetição: for, while\n",
    "> Repetição de comandos até que uma determinada condição for satisfeita.\n",
    "\n",
    "> ### For\n",
    "> ```\n",
    "for <variable> in <iterable object>:\n",
    "    <sequence of statements>\n",
    "```"
   ]
  },
  {
   "cell_type": "code",
   "execution_count": null,
   "metadata": {},
   "outputs": [],
   "source": [
    "# exemplo de for\n",
    "produto = 1\n",
    "for valor in range(1, 11):\n",
    "    produto *= valor     # produto = produto * valor\n",
    "    print(produto)"
   ]
  },
  {
   "cell_type": "code",
   "execution_count": null,
   "metadata": {},
   "outputs": [],
   "source": [
    "letras = \"Niterói\"\n",
    "s = ''\n",
    "for l in letras:\n",
    "    l = s+l\n",
    "    print(l)\n",
    "    s = l"
   ]
  },
  {
   "cell_type": "markdown",
   "metadata": {},
   "source": [
    "> ### while\n",
    "> ```\n",
    "while <Boolean expression>:\n",
    "    <sequence of statements>\n",
    "```"
   ]
  },
  {
   "cell_type": "code",
   "execution_count": null,
   "metadata": {},
   "outputs": [],
   "source": [
    "# exemplo de while\n",
    "produto = 1\n",
    "valor = 1\n",
    "while valor <= 10:\n",
    "    produto *= valor\n",
    "    valor += 1\n",
    "    print(produto)"
   ]
  },
  {
   "cell_type": "markdown",
   "metadata": {},
   "source": [
    "## Funções\n",
    "> A linguagem Python permite criar novas funções.\n",
    "> ```\n",
    "def <function name>(<list of parameters>):\n",
    "    <sequence of statements>\n",
    "```"
   ]
  },
  {
   "cell_type": "code",
   "execution_count": null,
   "metadata": {},
   "outputs": [],
   "source": [
    "# exemplo de função\n",
    "def square(n):\n",
    "    \"\"\"Returna o quadrado de n.\"\"\"\n",
    "    resultado = n ** 2\n",
    "    return resultado"
   ]
  },
  {
   "cell_type": "code",
   "execution_count": null,
   "metadata": {},
   "outputs": [],
   "source": [
    "# usando a função\n",
    "n = 5\n",
    "v = square(n)\n",
    "print('O quadrado de',n,' é ',v)"
   ]
  },
  {
   "cell_type": "markdown",
   "metadata": {
    "colab_type": "text",
    "id": "6Pi1sPNTlfMn"
   },
   "source": [
    "------\n",
    "Jorge Zavaleta &copy; 2021. zavaleta.jorge@gmail.com"
   ]
  }
 ],
 "metadata": {
  "colab": {
   "collapsed_sections": [],
   "include_colab_link": true,
   "name": "Python_Data_Science_UFF_2020_M1.ipynb",
   "provenance": []
  },
  "kernelspec": {
   "display_name": "Python 3",
   "language": "python",
   "name": "python3"
  },
  "language_info": {
   "codemirror_mode": {
    "name": "ipython",
    "version": 3
   },
   "file_extension": ".py",
   "mimetype": "text/x-python",
   "name": "python",
   "nbconvert_exporter": "python",
   "pygments_lexer": "ipython3",
   "version": "3.8.5"
  }
 },
 "nbformat": 4,
 "nbformat_minor": 1
}
