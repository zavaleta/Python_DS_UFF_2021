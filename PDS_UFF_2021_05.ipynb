{
 "cells": [
  {
   "cell_type": "markdown",
   "metadata": {},
   "source": [
    "![verao](imagens/verao_uff.png)"
   ]
  },
  {
   "cell_type": "markdown",
   "metadata": {},
   "source": [
    "---\n",
    "# Univerisdade Federal Fluminense - UFF\n",
    "## Programa de Pós-graduação em Engenharia de Biossistemas"
   ]
  },
  {
   "cell_type": "markdown",
   "metadata": {},
   "source": [
    "---\n",
    "# Escola de Verão 2021\n",
    "### Professor: Jorge Zavaleta. <jorge.zavaleta@ppgi.ufrj.br>"
   ]
  },
  {
   "cell_type": "markdown",
   "metadata": {
    "colab_type": "text",
    "id": "c3k-CaB96pFT"
   },
   "source": [
    "---"
   ]
  },
  {
   "cell_type": "markdown",
   "metadata": {
    "colab_type": "text",
    "id": "5UKkd2j86Wiv"
   },
   "source": [
    "# Módulo 05 - Graficos Avançados e Aplicações"
   ]
  },
  {
   "cell_type": "markdown",
   "metadata": {},
   "source": [
    "## Gráficos interativos - Bokeh\n",
    "> **Bokeh** é uma biblioteca Python para a criação de visualizações interativas para navegadores da web modernos e permite construir belos gráficos, desde plotagens simples a painéis complexos com conjuntos de dados de \"streaming\". Bokeh permite criar visualizações baseadas em JavaScript sem escrever código. Maiores detalhes -> [Bokeh](https://bokeh.org/). [Docs](http://docs.bokeh.org/en/dev/index.html)\n",
    "\n",
    "> - Visualização interativa em navegadores modernos\n",
    "> - Documentos HTML autônomos ou aplicativos de servidor\n",
    "> - Gráficos expressivos e versáteis\n",
    "> - Dados grandes, dinâmicos ou de streaming\n",
    "> - Fácil uso de python (ou Scala, ou R)\n",
    "\n",
    "> Instalar: ```pip install bokeh```"
   ]
  },
  {
   "cell_type": "markdown",
   "metadata": {
    "colab": {},
    "colab_type": "code",
    "id": "IAmJvmgc90pO"
   },
   "source": [
    "### Importando a biblioteca"
   ]
  },
  {
   "cell_type": "code",
   "execution_count": null,
   "metadata": {},
   "outputs": [],
   "source": [
    "# 1. importando as bibliotecas\n",
    "#import matplotlib as mpl                       # usada ocasionalmente 3D\n",
    "import matplotlib.pyplot as plt                # importar a biblioteca matplotlib\n",
    "import numpy as np                             # importar numpy\n",
    "import pandas as pd                            # importat pandas\n",
    "#--\n",
    "from bokeh.io import output_notebook           # bokeh\n",
    "from bokeh.plotting import figure, show        # figura\n",
    "#--\n",
    "plt.style.use('classic')                       # estilo da biblioteca\n",
    "%matplotlib inline                            \n",
    "#%config InlineBackend.figure_format='svg'"
   ]
  },
  {
   "cell_type": "code",
   "execution_count": null,
   "metadata": {},
   "outputs": [],
   "source": [
    "# 2. verificar se está funcioando corretamente\n",
    "output_notebook()"
   ]
  },
  {
   "cell_type": "code",
   "execution_count": null,
   "metadata": {},
   "outputs": [],
   "source": [
    "# 3. gerando os dados\n",
    "x = np.linspace(-6, 6, 100)\n",
    "y = np.cos(x)"
   ]
  },
  {
   "cell_type": "code",
   "execution_count": null,
   "metadata": {},
   "outputs": [],
   "source": [
    "# 4. gerando o grafico\n",
    "f = figure(width=500, height=500)                             # gera figura de 500x500\n",
    "f.circle(x, y, size=4, color=\"firebrick\", alpha=0.5)          # circulos de tamanho 7\n",
    "show(f)                                                       # mostra a figura"
   ]
  },
  {
   "cell_type": "markdown",
   "metadata": {},
   "source": [
    "> ### Bokeh - Bar"
   ]
  },
  {
   "cell_type": "code",
   "execution_count": null,
   "metadata": {},
   "outputs": [],
   "source": [
    "# dados pre-inslados\n",
    "from bokeh.sampledata.autompg import autompg\n",
    "#\n",
    "#print(autompg)\n",
    "#dados = pd.DataFrame(autompg)\n",
    "#print(dados.head(10))\n",
    "#\n",
    "grouped = autompg.groupby(\"yr\")\n",
    "#\n",
    "mpg = grouped.mpg\n",
    "avg, std = mpg.mean(), mpg.std()\n",
    "years = list(grouped.groups)\n",
    "american = autompg[autompg[\"origin\"]==1]\n",
    "japanese = autompg[autompg[\"origin\"]==3]"
   ]
  },
  {
   "cell_type": "code",
   "execution_count": null,
   "metadata": {},
   "outputs": [],
   "source": [
    "# graficar a distribuicao por ano\n",
    "p = figure(title=\"MPG by Year (Japan and US)\")\n",
    "\n",
    "p.vbar(x=years, bottom=avg-std, top=avg+std, width=0.8, \n",
    "       fill_alpha=0.2, line_color=None, legend_label=\"MPG 1 stddev\")\n",
    "\n",
    "p.circle(x=japanese[\"yr\"], y=japanese[\"mpg\"], size=10, alpha=0.5,\n",
    "         color=\"red\", legend_label=\"Japanese\")\n",
    "\n",
    "p.triangle(x=american[\"yr\"], y=american[\"mpg\"], size=10, alpha=0.3,\n",
    "           color=\"blue\", legend_label=\"American\")\n",
    "\n",
    "p.legend.location = \"top_left\"\n",
    "show(p)"
   ]
  },
  {
   "cell_type": "markdown",
   "metadata": {},
   "source": [
    "> ### Bokeh - Colunas (subplots)"
   ]
  },
  {
   "cell_type": "code",
   "execution_count": null,
   "metadata": {},
   "outputs": [],
   "source": [
    "# exemplo de linked colunas (subplor)\n",
    "from bokeh.models import ColumnDataSource      # dados das colunas\n",
    "from bokeh.layouts import gridplot\n",
    "#\n",
    "source = ColumnDataSource(autompg)\n",
    "#\n",
    "options = dict(plot_width=300, plot_height=300, tools=\"pan,wheel_zoom,box_zoom,box_select,lasso_select\")\n",
    "#\n",
    "p1 = figure(title=\"MPG by Year\", **options)\n",
    "p1.circle(\"yr\", \"mpg\", color=\"blue\", source=source)\n",
    "#\n",
    "p2 = figure(title=\"HP vs. Displacement\", **options)\n",
    "p2.circle(\"hp\", \"displ\", color=\"green\", source=source)\n",
    "#\n",
    "p3 = figure(title=\"MPG vs. Displacement\", **options)\n",
    "p3.circle(\"mpg\", \"displ\", size=\"cyl\", line_color=\"red\", fill_color=None, source=source)\n",
    "#\n",
    "p = gridplot([[ p1, p2, p3]], toolbar_location=\"right\")\n",
    "#\n",
    "show(p)"
   ]
  },
  {
   "cell_type": "markdown",
   "metadata": {},
   "source": [
    "> ### Bokeh - Standalone HTML"
   ]
  },
  {
   "cell_type": "code",
   "execution_count": null,
   "metadata": {},
   "outputs": [],
   "source": [
    "# Abre em outra pagina HTML\n",
    "from bokeh.plotting import output_file\n",
    "#\n",
    "output_file(\"exemplo_bokeh.html\")             # pagina html\n",
    "#\n",
    "p = figure(title=\"MPG by Year (Japan and US)\")\n",
    "#\n",
    "p.vbar(x=years, bottom=avg-std, top=avg+std, width=0.8, \n",
    "       fill_alpha=0.2, line_color=None, legend_label=\"MPG 1 stddev\")\n",
    "#\n",
    "p.circle(x=japanese[\"yr\"], y=japanese[\"mpg\"], size=10, alpha=0.3,\n",
    "         color=\"red\", legend_label=\"Japanese\")\n",
    "#\n",
    "p.triangle(x=american[\"yr\"], y=american[\"mpg\"], size=10, alpha=0.3,\n",
    "           color=\"blue\", legend_label=\"American\")\n",
    "#\n",
    "p.legend.location = \"top_left\"\n",
    "show(p)                          # mostra o grafico"
   ]
  },
  {
   "cell_type": "markdown",
   "metadata": {},
   "source": [
    "> ### Bokeh - Aplicações"
   ]
  },
  {
   "cell_type": "code",
   "execution_count": null,
   "metadata": {},
   "outputs": [],
   "source": [
    "# bokeh - frame\n",
    "from IPython.display import IFrame\n",
    "IFrame('https://demo.bokeh.org/sliders', width=900, height=410)"
   ]
  },
  {
   "cell_type": "markdown",
   "metadata": {},
   "source": [
    "## Plotly\n",
    "> **Plotly** é uma biblioteca de gráficos Python que permite fazer gráficos interativos de alta qualidade. [Plotly](https://plotly.com/python/)\n",
    ">> - Instalar: ```pip install plotly``` #  plotly==4.14.3\n",
    ">> - Instalar: ```pip install dash```           # dash \n",
    ">> - Instalar: ```pip install jupyter-dash```   # dash para Jupyter"
   ]
  },
  {
   "cell_type": "code",
   "execution_count": null,
   "metadata": {},
   "outputs": [],
   "source": [
    "# grafico simples\n",
    "import plotly.graph_objects as go\n",
    "fig = go.FigureWidget(data=go.Bar(y=[2, 5, 10, 3, 1 , 8]))\n",
    "fig.show()"
   ]
  },
  {
   "cell_type": "code",
   "execution_count": null,
   "metadata": {},
   "outputs": [],
   "source": [
    "# plot de regiao geografica em forma discreta\n",
    "import plotly.express as px\n",
    "\n",
    "df = px.data.gapminder().query(\"year == 2007\")\n",
    "fig = px.scatter_geo(df, locations=\"iso_alpha\",\n",
    "                     color=\"continent\", # which column to use to set the color of markers\n",
    "                     hover_name=\"country\", # column added to hover information\n",
    "                     size=\"pop\", # size of markers\n",
    "                     projection=\"natural earth\")\n",
    "fig.show()"
   ]
  },
  {
   "cell_type": "code",
   "execution_count": null,
   "metadata": {},
   "outputs": [],
   "source": [
    "# exemplo usando GEOPANDAS\n",
    "import plotly.express as px\n",
    "import geopandas as gpd\n",
    "\n",
    "geo_df = gpd.read_file(gpd.datasets.get_path('naturalearth_cities'))\n",
    "#\n",
    "#px.set_mapbox_access_token(open(\".mapbox_token\").read())\n",
    "fig = px.scatter_geo(geo_df,lat=geo_df.geometry.y,lon=geo_df.geometry.x,hover_name=\"name\")\n",
    "fig.show()"
   ]
  },
  {
   "cell_type": "code",
   "execution_count": null,
   "metadata": {},
   "outputs": [],
   "source": [
    "# leitura dos dados do dataset total\n",
    "world_df = gpd.read_file(gpd.datasets.get_path('naturalearth_lowres'))\n",
    "world_df"
   ]
  },
  {
   "cell_type": "code",
   "execution_count": null,
   "metadata": {},
   "outputs": [],
   "source": [
    "# procurando dados do Brasil\n",
    "sd_df = world_df[(world_df.continent =='South America')]\n",
    "sd_df"
   ]
  },
  {
   "cell_type": "code",
   "execution_count": null,
   "metadata": {},
   "outputs": [],
   "source": [
    "br_df = world_df[(world_df.continent =='South America') & (world_df.name =='Brazil')]\n",
    "br_df"
   ]
  },
  {
   "cell_type": "code",
   "execution_count": null,
   "metadata": {},
   "outputs": [],
   "source": [
    "# Brazil\n",
    "import matplotlib.pyplot as plt\n",
    "#\n",
    "fig, ax = plt.subplots(1, 1)\n",
    "ax.legend('Brazil')\n",
    "br_df.plot(column='pop_est', ax=ax, legend=True);"
   ]
  },
  {
   "cell_type": "code",
   "execution_count": null,
   "metadata": {},
   "outputs": [],
   "source": [
    "# exemplo mostra o exemplo em outra pagina html\n",
    "import plotly.graph_objects as go\n",
    "fig = go.Figure(data=go.Bar(y=[2, 5, 10, 3, 1 , 8]))\n",
    "fig.write_html('bar_figure.html', auto_open=True)"
   ]
  },
  {
   "cell_type": "markdown",
   "metadata": {},
   "source": [
    "## Aplicações - Covid 19\n",
    "> Instalar o pacote covid - Johns Hopkins University e World-O-Meter.\n",
    "\n",
    "> ```pip install covid ```"
   ]
  },
  {
   "cell_type": "code",
   "execution_count": null,
   "metadata": {},
   "outputs": [],
   "source": [
    "# importar a biblioteca\n",
    "from covid import Covid\n",
    "# dados\n",
    "#covid = Covid(source=\"john_hopkins\") # dados = default\n",
    "#covid = Covid()\n",
    "# ou\n",
    "covid = Covid(source=\"worldometers\")\n",
    "#\n",
    "data = covid.get_data()   # visualizar os dados\n",
    "# convertir para DataFrame\n",
    "dados = pd.DataFrame(data)\n",
    "dados.head()"
   ]
  },
  {
   "cell_type": "code",
   "execution_count": null,
   "metadata": {},
   "outputs": [],
   "source": [
    "# usando o dados iniciais de lista\n",
    "br0 = covid.get_status_by_country_name(\"Brazil\")\n",
    "br0"
   ]
  },
  {
   "cell_type": "code",
   "execution_count": null,
   "metadata": {},
   "outputs": [],
   "source": [
    "# covid - paises\n",
    "#countries = covid.list_countries()\n",
    "#countries"
   ]
  },
  {
   "cell_type": "code",
   "execution_count": null,
   "metadata": {},
   "outputs": [],
   "source": [
    "# visualizar dados por país\n",
    "br = dados[dados.country == 'Brazil']\n",
    "br"
   ]
  },
  {
   "cell_type": "code",
   "execution_count": null,
   "metadata": {},
   "outputs": [],
   "source": [
    "# Visualizar paises\n",
    "paises = dados['country']\n",
    "paises"
   ]
  },
  {
   "cell_type": "code",
   "execution_count": null,
   "metadata": {},
   "outputs": [],
   "source": [
    "# confirmar dados totais\n",
    "#covid.get_total_active_cases()       # casos totais ativos\n",
    "#covid.get_total_confirmed_cases()    # casos torais confirmados\n",
    "#covid.get_total_recovered()          # casos totais recuperados\n",
    "#covid.get_total_deaths()             # casos totais de mortos"
   ]
  },
  {
   "cell_type": "code",
   "execution_count": null,
   "metadata": {},
   "outputs": [],
   "source": [
    "# classificar os dados\n",
    "ordenados = dados.sort_values(by=['confirmed'], ascending=False)\n",
    "ordenados.head(10)"
   ]
  },
  {
   "cell_type": "code",
   "execution_count": null,
   "metadata": {},
   "outputs": [],
   "source": [
    "# os 10 paises mais afetados pelo covid-19\n",
    "excluidos = ordenados[~ordenados.country.isin(['Europe', 'South America', 'Asia', 'World', 'North America', 'Africa'])]\n",
    "top10 = excluidos.head(10)\n",
    "top10"
   ]
  },
  {
   "cell_type": "code",
   "execution_count": null,
   "metadata": {},
   "outputs": [],
   "source": [
    "# Extraindo os dados para variaveis\n",
    "x = top10.country\n",
    "y1 = top10.confirmed\n",
    "y2 = top10.active\n",
    "y3 = top10.deaths\n",
    "y4 = top10.recovered"
   ]
  },
  {
   "cell_type": "code",
   "execution_count": null,
   "metadata": {},
   "outputs": [],
   "source": [
    "# visualizar os resultados dos paise\n",
    "%matplotlib inline\n",
    "#\n",
    "plt.plot(x, y1,'r')\n",
    "plt.xticks(rotation=90)\n",
    "plt.grid()\n",
    "plt.title('Paises afetados pelo covid-19')\n",
    "plt.show()"
   ]
  },
  {
   "cell_type": "code",
   "execution_count": null,
   "metadata": {},
   "outputs": [],
   "source": [
    "# grafico de barras\n",
    "plt.bar(x, y1, color='red')\n",
    "plt.xticks(rotation=90)\n",
    "plt.title('Paises afetados pelo covid-19')\n",
    "plt.show()"
   ]
  },
  {
   "cell_type": "code",
   "execution_count": null,
   "metadata": {},
   "outputs": [],
   "source": [
    "# multigrafico\n",
    "plt.plot(x, y1, label='Confirmados')\n",
    "plt.plot(x, y2, label='Ativos')\n",
    "plt.plot(x, y3, label='Mortos')\n",
    "plt.plot(x, y4, label='Recuperados')\n",
    "plt.legend(loc='upper right')\n",
    "plt.xticks(rotation=90)\n",
    "plt.title('Paises afetados pelo covid-19')\n",
    "plt.show()"
   ]
  },
  {
   "cell_type": "code",
   "execution_count": null,
   "metadata": {},
   "outputs": [],
   "source": [
    "# grafico de barra vertical\n",
    "df2 = pd.DataFrame([y1, y2, y3, y4])\n",
    "df2.plot.bar();\n",
    "plt.legend(x, loc='upper center')\n",
    "plt.xticks(rotation=90)\n",
    "plt.title('Paises afetados pelo covid-19')\n",
    "plt.grid()\n",
    "plt.show()"
   ]
  },
  {
   "cell_type": "code",
   "execution_count": null,
   "metadata": {},
   "outputs": [],
   "source": [
    "# grafico de barra vertical\n",
    "df2 = pd.DataFrame([y1, y2, y3, y4])\n",
    "df2.plot.bar(stacked=True);\n",
    "plt.legend(x, loc='upper center')\n",
    "plt.xticks(rotation=90)\n",
    "plt.title('Paises afetados pelo covid-19')\n",
    "plt.grid()\n",
    "plt.show()"
   ]
  },
  {
   "cell_type": "code",
   "execution_count": null,
   "metadata": {},
   "outputs": [],
   "source": [
    "# visualiza barra horizontal\n",
    "df2.plot.barh(stacked=True);\n",
    "plt.legend(x, loc='upper right')\n",
    "plt.xticks(rotation=90)\n",
    "plt.grid()\n",
    "plt.title('Paises afetados pelo covid-19')\n",
    "plt.show()"
   ]
  },
  {
   "cell_type": "code",
   "execution_count": null,
   "metadata": {},
   "outputs": [],
   "source": [
    "# visualiza area\n",
    "df2.plot.area();\n",
    "plt.legend(x, loc='upper right')\n",
    "plt.xticks(rotation=90)\n",
    "plt.grid()\n",
    "plt.title('Paises afetados pelo covid-19')\n",
    "plt.show()"
   ]
  },
  {
   "cell_type": "code",
   "execution_count": null,
   "metadata": {},
   "outputs": [],
   "source": [
    "# scatter\n",
    "#labels = ['Confirmados', 'Ativos', 'Mortos', 'Recuperados']\n",
    "labels = ['Confirmed', 'Active', 'Deaths', 'Recovered']\n",
    "factor=0.0001\n",
    "plt.scatter(x, y1, s=y1*factor, color='red', label='confirmados');\n",
    "plt.scatter(x, y2, s=y2*factor, color='green', label='ativos');\n",
    "plt.scatter(x, y3, s=y3*factor, label='mortos');\n",
    "#plt.scatter(x, y4, s=y4*factor, label='recuperados');\n",
    "#plt.legend(labels, loc='upper right')\n",
    "plt.legend(loc='upper right')\n",
    "plt.xticks(rotation=90)\n",
    "plt.grid()\n",
    "plt.title('Paises afetados pelo covid-19')\n",
    "plt.show()"
   ]
  },
  {
   "cell_type": "code",
   "execution_count": null,
   "metadata": {},
   "outputs": [],
   "source": [
    "# Pie chart\n",
    "plt.pie(y1, labels=x)\n",
    "plt.title('Casos Confirmados')\n",
    "plt.show()"
   ]
  },
  {
   "cell_type": "code",
   "execution_count": null,
   "metadata": {},
   "outputs": [],
   "source": [
    "# conta os valores confirmados\n",
    "top10['confirmed'].plot(kind='pie', autopct='%.2f%%', labels=x)\n",
    "plt.axis('equal');\n",
    "plt.ylabel('casos confirmados')\n",
    "plt.title('Paises afetados pelo covid-19')\n",
    "plt.show()"
   ]
  },
  {
   "cell_type": "code",
   "execution_count": null,
   "metadata": {
    "scrolled": true
   },
   "outputs": [],
   "source": [
    "# visualizar os 10 primeiros e plotly\n",
    "top10"
   ]
  },
  {
   "cell_type": "markdown",
   "metadata": {},
   "source": [
    "> **Pergunta**: Qual a incidência diária de casos confirmados e mortes no período?"
   ]
  },
  {
   "cell_type": "code",
   "execution_count": null,
   "metadata": {},
   "outputs": [],
   "source": [
    "# Agrupar os dados\n",
    "agrupados = top10.groupby(['country'])[['confirmed','deaths']].agg('sum')\n",
    "agrupados.head(10)"
   ]
  },
  {
   "cell_type": "code",
   "execution_count": null,
   "metadata": {},
   "outputs": [],
   "source": [
    "# grafico\n",
    "import datetime                         # date\n",
    "import plotly.graph_objects as go\n",
    "from plotly.subplots import make_subplots\n",
    "from plotly.graph_objs import *\n",
    "#\n",
    "today = datetime.datetime.now().strftime('%d/%m/%Y')  # dia atual\n",
    "#\n",
    "layout = Layout(\n",
    "    paper_bgcolor='rgba(0,0,0,0)',\n",
    "    plot_bgcolor='rgba(0,0,0,0)',\n",
    "    title=\"Visualização Conjunta de Casos Confirmados e Óbitos até \" + today,)"
   ]
  },
  {
   "cell_type": "code",
   "execution_count": null,
   "metadata": {},
   "outputs": [],
   "source": [
    "# graficando usando o plotly\n",
    "fig = go.Figure(data=[\n",
    "    go.Bar(name='Confirmados', x=agrupados.index, y=agrupados['confirmed']),\n",
    "    go.Bar(name='Óbitos', x=agrupados.index, y=agrupados['deaths'])])\n",
    "fig.update_xaxes(title_text='Dados por País')\n",
    "fig.update_yaxes(title_text='Quantidade')\n",
    "fig.update_layout(barmode='stack')\n",
    "fig['layout'].update(layout)\n",
    "#\n",
    "fig.show()"
   ]
  },
  {
   "cell_type": "markdown",
   "metadata": {},
   "source": [
    "### Geoplotlib"
   ]
  },
  {
   "cell_type": "markdown",
   "metadata": {},
   "source": [
    "> - instalar o pyglet: pip install Pyglet\n",
    "> - pip install geoplotlib\n",
    "> - baixar geospatila dataset - https://www.latlong.net/\n",
    "> - https://simplemaps.com/data/world-cities"
   ]
  },
  {
   "cell_type": "code",
   "execution_count": null,
   "metadata": {},
   "outputs": [],
   "source": [
    "# Exemplo\n",
    "import geoplotlib as geo\n",
    "#import pandas as pd\n",
    "#\n",
    "br_cities = pd.read_csv('data/br-cities.csv',delimiter=',')\n",
    "br_cities.head()"
   ]
  },
  {
   "cell_type": "code",
   "execution_count": null,
   "metadata": {},
   "outputs": [],
   "source": [
    "geo.dot(br_cities,point_size=3)\n",
    "geo.show()"
   ]
  },
  {
   "cell_type": "code",
   "execution_count": null,
   "metadata": {},
   "outputs": [],
   "source": [
    "rio = br_cities[br_cities['admin_name']=='Rio de Janeiro']\n",
    "rio.head(10)"
   ]
  },
  {
   "cell_type": "code",
   "execution_count": null,
   "metadata": {},
   "outputs": [],
   "source": [
    "geo.dot(rio,point_size=5)\n",
    "geo.show()"
   ]
  },
  {
   "cell_type": "markdown",
   "metadata": {},
   "source": [
    "---\n",
    "#### Python para Data Science &copy; Copyright 2021, Jorge Zavaleta"
   ]
  }
 ],
 "metadata": {
  "colab": {
   "authorship_tag": "ABX9TyMTc9xyCWa/8HuQenhSUJ02",
   "collapsed_sections": [],
   "name": "Python_Data_Science_UFF_2020_M4.ipynb",
   "provenance": []
  },
  "kernelspec": {
   "display_name": "Python 3",
   "language": "python",
   "name": "python3"
  },
  "language_info": {
   "codemirror_mode": {
    "name": "ipython",
    "version": 3
   },
   "file_extension": ".py",
   "mimetype": "text/x-python",
   "name": "python",
   "nbconvert_exporter": "python",
   "pygments_lexer": "ipython3",
   "version": "3.8.5"
  }
 },
 "nbformat": 4,
 "nbformat_minor": 1
}
